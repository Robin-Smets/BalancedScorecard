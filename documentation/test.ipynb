{
 "cells": [
  {
   "cell_type": "code",
   "id": "initial_id",
   "metadata": {
    "collapsed": true,
    "ExecuteTime": {
     "end_time": "2024-09-09T20:56:21.945676Z",
     "start_time": "2024-09-09T20:56:21.081676Z"
    }
   },
   "source": [
    "\n",
    "import pandas as pd\n",
    "from source.data import Database, DatabaseService\n",
    "\n",
    "db = Database('VirtualServer', 'AdventureWorks2022')\n",
    "db_service = DatabaseService()\n",
    "db_service.databases['AdventureWorks2022'] = db\n",
    "db_service.databases['AdventureWorks2022'].import_tables_from_csv_files()\n",
    "\n",
    "order_volume_table = db_service.databases['AdventureWorks2022'].tables['Sales.SalesOrderHeader']\n",
    "order_volume_table_subset = order_volume_table[\n",
    "    [\n",
    "        'OrderDateCalenderWeek',\n",
    "        'OrderDateMonth',\n",
    "        'OrderDateQuarter',\n",
    "        'OrderDateYear',\n",
    "        'TimeUnitCalenderWeek',\n",
    "        'TimeUnitMonth',\n",
    "        'TimeUnitQuarter',\n",
    "        'TotalDue'     \n",
    "    ]\n",
    "]\n",
    "\n",
    "order_volume_table_subset.loc[:, 'TotalDue'] = order_volume_table_subset['TotalDue'].str.replace(',', '.')\n",
    "order_volume_table_subset.loc[:, 'TotalDue'] = pd.to_numeric(order_volume_table_subset['TotalDue'], errors='coerce')\n",
    "\n",
    "print(order_volume_table_subset.head())"
   ],
   "outputs": [
    {
     "name": "stdout",
     "output_type": "stream",
     "text": [
      "   OrderDateCalenderWeek  OrderDateMonth  OrderDateQuarter  OrderDateYear  \\\n",
      "0                     22               5                 2           2011   \n",
      "1                     22               5                 2           2011   \n",
      "2                     22               5                 2           2011   \n",
      "3                     22               5                 2           2011   \n",
      "4                     22               5                 2           2011   \n",
      "\n",
      "  TimeUnitCalenderWeek TimeUnitMonth TimeUnitQuarter    TotalDue  \n",
      "0              22/2011      May/2011          2/2011  23153.2339  \n",
      "1              22/2011      May/2011          2/2011   1457.3288  \n",
      "2              22/2011      May/2011          2/2011  36865.8012  \n",
      "3              22/2011      May/2011          2/2011  32474.9324  \n",
      "4              22/2011      May/2011          2/2011    472.3108  \n"
     ]
    }
   ],
   "execution_count": 13
  },
  {
   "metadata": {
    "ExecuteTime": {
     "end_time": "2024-09-09T20:56:35.816878Z",
     "start_time": "2024-09-09T20:56:35.726179Z"
    }
   },
   "cell_type": "code",
   "source": [
    "# Importiere pandas, falls noch nicht geschehen\n",
    "import pandas as pd\n",
    "\n",
    "# DataFrame nach 'OrderDateMonth' und 'TimeUnitMonth' gruppieren und 'TotalDue' summieren\n",
    "grouped_df = order_volume_table_subset.groupby(['OrderDateYear','OrderDateMonth', 'TimeUnitMonth'])['TotalDue'].sum().reset_index()\n",
    "\n",
    "# Ergebnis anzeigen\n",
    "print(grouped_df.head())\n",
    "\n",
    "print(grouped_df)\n",
    "# DataFrame in eine CSV-Datei schreiben\n",
    "grouped_df.to_csv('order_volume_summary.csv')\n",
    "\n"
   ],
   "id": "faa52369f581aa37",
   "outputs": [
    {
     "name": "stdout",
     "output_type": "stream",
     "text": [
      "   OrderDateYear  OrderDateMonth   TimeUnitMonth      TotalDue\n",
      "0           2011               5        May/2011   567020.9498\n",
      "1           2011               6       June/2011    507096.469\n",
      "2           2011               7       July/2011  2292182.8828\n",
      "3           2011               8     August/2011  2800576.1723\n",
      "4           2011               9  September/2011   554791.6082\n",
      "    OrderDateYear  OrderDateMonth   TimeUnitMonth      TotalDue\n",
      "0            2011               5        May/2011   567020.9498\n",
      "1            2011               6       June/2011    507096.469\n",
      "2            2011               7       July/2011  2292182.8828\n",
      "3            2011               8     August/2011  2800576.1723\n",
      "4            2011               9  September/2011   554791.6082\n",
      "5            2011              10    October/2011  5156269.5291\n",
      "6            2011              11   November/2011   815313.0152\n",
      "7            2011              12   December/2011  1462448.8986\n",
      "8            2012               1    January/2012  4458337.4444\n",
      "9            2012               2   February/2012  1649051.9001\n",
      "10           2012               3      March/2012  3336347.4716\n",
      "11           2012               4      April/2012  1871923.5039\n",
      "12           2012               5        May/2012  3452924.4537\n",
      "13           2012               6       June/2012  4610647.2153\n",
      "14           2012               7       July/2012   3840231.459\n",
      "15           2012               8     August/2012  2442451.1831\n",
      "16           2012               9  September/2012   3881724.186\n",
      "17           2012              10    October/2012   2858060.197\n",
      "18           2012              11   November/2012  2097153.1292\n",
      "19           2012              12   December/2012  3176848.1687\n",
      "20           2013               1    January/2013  2340061.5521\n",
      "21           2013               2   February/2013  2600218.8667\n",
      "22           2013               3      March/2013  3831605.9389\n",
      "23           2013               4      April/2013  2840711.1734\n",
      "24           2013               5        May/2013  3658084.9461\n",
      "25           2013               6       June/2013  5726265.2635\n",
      "26           2013               7       July/2013  5521840.8445\n",
      "27           2013               8     August/2013  3733973.0032\n",
      "28           2013               9  September/2013  5083505.3374\n",
      "29           2013              10    October/2013  5374375.9418\n",
      "30           2013              11   November/2013  3694667.9998\n",
      "31           2013              12   December/2013  4560577.0958\n",
      "32           2014               1    January/2014  4798027.8709\n",
      "33           2014               2   February/2014   1478213.292\n",
      "34           2014               3      March/2014  8097036.3137\n",
      "35           2014               4      April/2014  1985886.1496\n",
      "36           2014               5        May/2014   6006183.211\n",
      "37           2014               6       June/2014    54151.4785\n"
     ]
    }
   ],
   "execution_count": 14
  },
  {
   "metadata": {},
   "cell_type": "code",
   "outputs": [],
   "execution_count": null,
   "source": "",
   "id": "1b46767fb00e655e"
  }
 ],
 "metadata": {
  "kernelspec": {
   "display_name": "Python 3",
   "language": "python",
   "name": "python3"
  },
  "language_info": {
   "codemirror_mode": {
    "name": "ipython",
    "version": 2
   },
   "file_extension": ".py",
   "mimetype": "text/x-python",
   "name": "python",
   "nbconvert_exporter": "python",
   "pygments_lexer": "ipython2",
   "version": "2.7.6"
  }
 },
 "nbformat": 4,
 "nbformat_minor": 5
}
